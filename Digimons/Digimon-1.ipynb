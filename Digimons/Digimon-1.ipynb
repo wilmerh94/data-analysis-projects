{
 "cells": [
  {
   "attachments": {},
   "cell_type": "markdown",
   "metadata": {},
   "source": [
    "# Example 1 - Beginner Friendly\n",
    "In this Data Analysis will be to practice with `Python and libraries`\n",
    "\n",
    "[Digimon DB KAGGLE](https://www.kaggle.com/datasets/rtatman/digidb)\n",
    "\n",
    "This dataset contains information on digimon from “Digimon Digimon Story: Cyber Sleuth”, released for Playstation Vita in 2015 and Playstation 4 in 2016.\n",
    "\n",
    "**Content:**\n",
    "\n",
    "This database contains three files: a list of all the digimon that can be captured or fought in Cyber Sleuth, all the moves which Digimon can perform, and all the Support Skills. (Support Skills are a passive, stackable, team-wide buff. Each species of Digimon is associated with a single Support Skill.)\n",
    "\n",
    "* Which set of moves will get the best ratio of attack power to SP spent?\n",
    "* Which team of 3 digimon have the highest attack? Defense?\n",
    "* What’s the tradeoff between HP and SP?\n",
    "* Are some types over- or under-represented?\n",
    "* Both the moves and support skills have short text descriptions. Can an NLP analysis reveal underlying clusters of moves?\n",
    "* Are different types and attributes evenly represented across stages?"
   ]
  },
  {
   "attachments": {},
   "cell_type": "markdown",
   "metadata": {},
   "source": [
    "## 1. Dependency and Format\n",
    "\n",
    "Python 3.10.11\n"
   ]
  },
  {
   "cell_type": "code",
   "execution_count": null,
   "metadata": {},
   "outputs": [],
   "source": [
    "# Classic Libraries\n",
    "\n",
    "import pandas as pd\n",
    "import matplotlib.pyplot as plt\n",
    "import seaborn as sns\n",
    "from skimpy import clean_columns\n",
    "\n",
    "# Advanced Visualization Libraries\n",
    "import plotly.express as px\n",
    "import plotly.graph_objects as go\n",
    "from plotly.subplots import make_subplots\n",
    "from wordcloud import WordCloud"
   ]
  },
  {
   "cell_type": "code",
   "execution_count": null,
   "metadata": {},
   "outputs": [],
   "source": [
    "# Display float with 2 decimal values\n",
    "pd.options.display.float_format = \"{:.2f}\".format"
   ]
  },
  {
   "attachments": {},
   "cell_type": "markdown",
   "metadata": {},
   "source": [
    "#### Helpers"
   ]
  },
  {
   "cell_type": "code",
   "execution_count": null,
   "metadata": {},
   "outputs": [],
   "source": [
    "# Checking if I can change the types to more efficient memory usage\n",
    "import numpy as np\n",
    "\n",
    "np.iinfo(np.int16)"
   ]
  },
  {
   "cell_type": "code",
   "execution_count": null,
   "metadata": {},
   "outputs": [],
   "source": [
    "from IPython.display import display\n",
    "\n",
    "\n",
    "def create_var(df, var_name):\n",
    "    \"\"\"This function is to create a variable with the main DataFrame without change the main one\n",
    "    Use it when you have to debug or modify anything\"\"\"\n",
    "    globals()[var_name] = df\n",
    "    return df"
   ]
  },
  {
   "attachments": {},
   "cell_type": "markdown",
   "metadata": {},
   "source": [
    "## 2. Get and Inspect Data"
   ]
  },
  {
   "cell_type": "code",
   "execution_count": null,
   "metadata": {},
   "outputs": [],
   "source": [
    "db = pd.read_csv(\"data/db_digimonlist.csv\")\n",
    "db_move = pd.read_csv(\"data/db_movelist.csv\")\n",
    "db_support = pd.read_csv(\"data/db_supportlist.csv\")"
   ]
  },
  {
   "cell_type": "code",
   "execution_count": null,
   "metadata": {},
   "outputs": [],
   "source": [
    "# Sample data\n",
    "db.sample(5)"
   ]
  },
  {
   "cell_type": "code",
   "execution_count": null,
   "metadata": {},
   "outputs": [],
   "source": [
    "def check_data(df):\n",
    "    col_type = df.dtypes\n",
    "    missing_values = df.isnull().sum()\n",
    "    uniques = df.nunique()\n",
    "    df1 = pd.concat(\n",
    "        {\n",
    "            \"type\": col_type,\n",
    "            \"missing_values\": missing_values,\n",
    "            \"uniques\": uniques,\n",
    "        },\n",
    "        axis=1,\n",
    "    ).reset_index(names=\"cols_name\")\n",
    "    print(\n",
    "        f\"Dimension of DataFrame: ({df.shape[0]}, {df.shape[1]})\\n\",\n",
    "    )\n",
    "    print(f\"DataFrame INFO:\\n{df1}\\n\")\n",
    "\n",
    "\n",
    "check_data(db)"
   ]
  },
  {
   "cell_type": "code",
   "execution_count": null,
   "metadata": {},
   "outputs": [],
   "source": [
    "# Setting the right index\n",
    "db.set_index(\"Number\", inplace=True)\n",
    "db.index.name = None\n",
    "db.head()"
   ]
  },
  {
   "cell_type": "code",
   "execution_count": null,
   "metadata": {},
   "outputs": [],
   "source": [
    "cols = db.columns.to_list()\n",
    "cols"
   ]
  },
  {
   "cell_type": "code",
   "execution_count": null,
   "metadata": {},
   "outputs": [],
   "source": [
    "cols = db.columns.to_list()\n",
    "cols"
   ]
  },
  {
   "cell_type": "code",
   "execution_count": null,
   "metadata": {},
   "outputs": [],
   "source": [
    "# Get an overview of the data\n",
    "db.info()"
   ]
  },
  {
   "cell_type": "code",
   "execution_count": null,
   "metadata": {},
   "outputs": [],
   "source": [
    "# Generate descriptive statistics\n",
    "db.describe().T"
   ]
  },
  {
   "cell_type": "code",
   "execution_count": null,
   "metadata": {},
   "outputs": [],
   "source": [
    "db = db[cols].astype(\n",
    "    {\n",
    "        \"Memory\": \"int16\",\n",
    "        \"Equip Slots\": \"int16\",\n",
    "        \"Lv 50 HP\": \"int16\",\n",
    "        \"Lv50 SP\": \"int16\",\n",
    "        \"Lv50 Atk\": \"int16\",\n",
    "        \"Lv50 Def\": \"int16\",\n",
    "        \"Lv50 Int\": \"int16\",\n",
    "        \"Lv50 Spd\": \"int16\",\n",
    "    }\n",
    ")"
   ]
  },
  {
   "cell_type": "code",
   "execution_count": null,
   "metadata": {},
   "outputs": [],
   "source": [
    "db.info()"
   ]
  },
  {
   "cell_type": "code",
   "execution_count": null,
   "metadata": {},
   "outputs": [],
   "source": [
    "# Check missing values\n",
    "db.isna().sum()"
   ]
  },
  {
   "cell_type": "code",
   "execution_count": null,
   "metadata": {},
   "outputs": [],
   "source": [
    "# Check for missing  values in %\n",
    "db.isna().mean().mul(100)\n",
    "# Mean is the AVG and its multiply by 100"
   ]
  },
  {
   "cell_type": "code",
   "execution_count": null,
   "metadata": {},
   "outputs": [],
   "source": [
    "# Display rows with missing values\n",
    "db[db.isnull().any(axis=\"columns\")]"
   ]
  },
  {
   "cell_type": "code",
   "execution_count": null,
   "metadata": {},
   "outputs": [],
   "source": [
    "# Inspect highest avg percentage Attack / Defense\n",
    "db.nlargest(5, columns=[\"Lv50 Atk\", \"Lv50 Def\"])"
   ]
  },
  {
   "cell_type": "code",
   "execution_count": null,
   "metadata": {},
   "outputs": [],
   "source": [
    "# Most Features (columns) are showing a difference between mean and median\n",
    "# This indicates that the data is skewed\n",
    "hist = db.hist(bins=15, figsize=(16, 10))"
   ]
  },
  {
   "attachments": {},
   "cell_type": "markdown",
   "metadata": {},
   "source": [
    "* `As we can see here we have `OUTLIERS in ATK`, also we have less than 10 Digimons with a high performance`"
   ]
  },
  {
   "attachments": {},
   "cell_type": "markdown",
   "metadata": {},
   "source": [
    "### HeatMaps with PANDAS and SNS"
   ]
  },
  {
   "cell_type": "code",
   "execution_count": null,
   "metadata": {},
   "outputs": [],
   "source": [
    "# Check correlation of the features (columns)\n",
    "def df_corr(df):\n",
    "    plt.figure(figsize=(8, 5))\n",
    "    corr = df.corr(numeric_only=True)\n",
    "    matrix = np.triu(corr)\n",
    "    # Plot HeatMap with SNS\n",
    "    sns.heatmap(\n",
    "        corr,\n",
    "        annot=True,\n",
    "        mask=matrix,\n",
    "        cmap=\"RdBu\",\n",
    "        vmin=-1,\n",
    "        vmax=1,\n",
    "    )\n",
    "\n",
    "\n",
    "df_corr(db)"
   ]
  },
  {
   "cell_type": "code",
   "execution_count": null,
   "metadata": {},
   "outputs": [],
   "source": [
    "# Plot pairwise relationships\n",
    "sns.pairplot(db)"
   ]
  },
  {
   "cell_type": "code",
   "execution_count": null,
   "metadata": {},
   "outputs": [],
   "source": [
    "# Show outliers\n",
    "db[\"Lv50 Atk\"].nlargest()"
   ]
  },
  {
   "cell_type": "code",
   "execution_count": null,
   "metadata": {},
   "outputs": [],
   "source": [
    "def detect_outliers(df, num_var):\n",
    "    trace0 = go.Box(\n",
    "        y=df[num_var],\n",
    "        name=\"All Points\",\n",
    "        jitter=0.3,\n",
    "        pointpos=-1.8,\n",
    "        boxpoints=\"all\",\n",
    "        marker=dict(color=\"#a2b9bc\"),\n",
    "        line=dict(color=\"#6b5b95\"),\n",
    "    )\n",
    "\n",
    "    trace1 = go.Box(\n",
    "        y=df[num_var],\n",
    "        name=\"Only Whiskers\",\n",
    "        boxpoints=False,\n",
    "        marker=dict(color=\"#b2ad7f\"),\n",
    "        line=dict(color=\"#feb236\"),\n",
    "    )\n",
    "\n",
    "    trace2 = go.Box(\n",
    "        y=df[num_var],\n",
    "        name=\"Suspected Outliers\",\n",
    "        boxpoints=\"suspectedoutliers\",\n",
    "        marker=dict(\n",
    "            color=\"#b5e7a0\",\n",
    "            outliercolor=\"#878f99\",\n",
    "            line=dict(outliercolor=\"#d64161\", outlierwidth=2),\n",
    "        ),\n",
    "        line=dict(color=\"#86af49\"),\n",
    "    )\n",
    "\n",
    "    trace3 = go.Box(\n",
    "        y=df[num_var],\n",
    "        name=\"Whiskers and Outliers\",\n",
    "        boxpoints=\"outliers\",\n",
    "        marker=dict(color=\"#6b5b95\"),\n",
    "        line=dict(color=\"#ff7b25\"),\n",
    "    )\n",
    "\n",
    "    data = [trace0, trace1, trace2, trace3]\n",
    "\n",
    "    layout = go.Layout(title=\"{} Outliers\".format(num_var))\n",
    "\n",
    "    layout = go.Layout(\n",
    "        title={\n",
    "            \"text\": num_var,\n",
    "            \"y\": 0.9,\n",
    "            \"x\": 0.5,\n",
    "            \"xanchor\": \"center\",\n",
    "            \"yanchor\": \"top\",\n",
    "        },\n",
    "        barmode=\"overlay\",\n",
    "        yaxis=dict(title=\"Count\"),\n",
    "        template=\"plotly_dark\",\n",
    "    )\n",
    "\n",
    "    fig = go.Figure(data=data, layout=layout)\n",
    "\n",
    "    fig.show()\n",
    "\n",
    "\n",
    "detect_outliers(db, \"Lv50 Atk\")"
   ]
  },
  {
   "cell_type": "code",
   "execution_count": null,
   "metadata": {},
   "outputs": [],
   "source": [
    "# Set upper limit for outliers\n",
    "q_hi = db[\"Lv50 Atk\"].quantile(0.999)\n",
    "q_hi"
   ]
  },
  {
   "cell_type": "code",
   "execution_count": null,
   "metadata": {},
   "outputs": [],
   "source": [
    "# Plot pairwise relationships w/o outliers\n",
    "sns.pairplot(db.query(\"`Lv50 Atk` < @q_hi\"))"
   ]
  },
  {
   "attachments": {},
   "cell_type": "markdown",
   "metadata": {},
   "source": [
    "## 3. Clean up the DataFrame"
   ]
  },
  {
   "attachments": {},
   "cell_type": "markdown",
   "metadata": {},
   "source": [
    "### 3.1 Using pandas to clean the data with method chaining"
   ]
  },
  {
   "cell_type": "code",
   "execution_count": null,
   "metadata": {},
   "outputs": [],
   "source": [
    "# Chain PANDAS method\n",
    "(\n",
    "    db.query(\"`Lv50 Atk` > 100\")  # Using SQL method\n",
    "    .filter(\n",
    "        regex=\"^D\", axis=\"columns\"\n",
    "    )  # Filter with regex all the COLUMNS NAME start with D\n",
    "    .rename(columns={\"Digimon\": \"Digimon_Name\"})  # Rename the Column Name-\n",
    ")"
   ]
  },
  {
   "cell_type": "code",
   "execution_count": null,
   "metadata": {},
   "outputs": [],
   "source": [
    "db.head(3)"
   ]
  },
  {
   "cell_type": "code",
   "execution_count": null,
   "metadata": {},
   "outputs": [],
   "source": [
    "# Function to CLEAN\n",
    "def clean_df(df, views_threshold=100):\n",
    "    \"\"\"\n",
    "    Purpose: Clean the DataFrame\n",
    "    \"\"\"\n",
    "    #  remove_cols=['Number']\n",
    "    # remove_nan_values=['']\n",
    "    return (\n",
    "        df\n",
    "        #   .drop(labels=remove_cols,axis='columns')\n",
    "        #    .dropna(subset=remove_nan_values)\n",
    "        .dropna()\n",
    "        .pipe(\n",
    "            clean_columns\n",
    "        )  # Cleaning empty spaces and special characters. Imported at the beginning\n",
    "        .rename(\n",
    "            columns={\n",
    "                \"lv_50_hp\": \"hp\",\n",
    "                \"lv_50_sp\": \"sp\",\n",
    "                \"lv_50_atk\": \"atk\",\n",
    "                \"lv_50_def\": \"def\",\n",
    "                \"lv_50_int\": \"int\",\n",
    "                \"lv_50_spd\": \"spd\",\n",
    "            }\n",
    "        )\n",
    "        .query(\"atk > @views_threshold\")\n",
    "        .assign(  # assign create a new column or edit the existing one\n",
    "            #        atk=lambda df_: pd.to_datetime(df_.)\n",
    "            atk_sp_ratio=lambda df_: ((df_.sp / df_.atk) * 100).round(2)\n",
    "        )\n",
    "    )\n",
    "\n",
    "\n",
    "# end def\n",
    "\n",
    "df = clean_df(db)\n",
    "df.head(3)"
   ]
  },
  {
   "attachments": {},
   "cell_type": "markdown",
   "metadata": {},
   "source": [
    "## 4. Plot data"
   ]
  },
  {
   "cell_type": "code",
   "execution_count": null,
   "metadata": {},
   "outputs": [],
   "source": [
    "def display_topn_cat_val(df, feature):\n",
    "    df_ = df[feature].value_counts()\n",
    "    fig = px.bar(\n",
    "        y=df_.values,\n",
    "        x=df_.index,\n",
    "        text=df_.values,\n",
    "        title=\"Amount of Digimon by Stage\",\n",
    "    )\n",
    "    fig.update_layout(\n",
    "        title={\n",
    "            \"text\": feature.title(),\n",
    "            \"y\": 0.9,\n",
    "            \"x\": 0.5,\n",
    "            \"xanchor\": \"center\",\n",
    "            \"yanchor\": \"top\",\n",
    "        },\n",
    "        barmode=\"overlay\",\n",
    "        yaxis=dict(title=\"Count\"),\n",
    "        xaxis=dict(title=\"Stage\"),\n",
    "        template=\"plotly_dark\",\n",
    "    )\n",
    "    fig.show()\n",
    "\n",
    "\n",
    "display_topn_cat_val(df, \"stage\")"
   ]
  },
  {
   "cell_type": "code",
   "execution_count": null,
   "metadata": {},
   "outputs": [],
   "source": [
    "# ax = (df\n",
    "#  .stage\n",
    "#  .value_counts()\n",
    "#  .plot(kind='bar',figsize=(12,6),rot=0, title='Amount of Digimon by Stage', xlabel='Stage', ylabel='Amount')\n",
    "#  )\n",
    "# ax.bar_label(ax.containers[0])\n",
    "\n",
    "# plt.tight_layout()"
   ]
  },
  {
   "cell_type": "code",
   "execution_count": null,
   "metadata": {},
   "outputs": [],
   "source": [
    "def summary_count(df, cols):\n",
    "    colors = [\n",
    "        \"#a2b9bc\",\n",
    "        \"#6b5b95\",\n",
    "        \"#b2ad7f\",\n",
    "        \"#feb236\",\n",
    "        \"#b5e7a0\",\n",
    "        \"#878f99\",\n",
    "        \"#d64161\",\n",
    "        \"#86af49\",\n",
    "        \"#ff7b25\",\n",
    "    ]\n",
    "\n",
    "    fig = make_subplots(\n",
    "        rows=1,\n",
    "        cols=2,\n",
    "        subplot_titles=(\"Countplot\", \"Percentages\"),\n",
    "        specs=[[{\"type\": \"xy\"}, {\"type\": \"domain\"}]],\n",
    "    )\n",
    "\n",
    "    x = [str(i) for i in df[cols].value_counts().index]\n",
    "    y = df[cols].value_counts().values.tolist()\n",
    "\n",
    "    fig.add_trace(\n",
    "        go.Bar(\n",
    "            x=x,\n",
    "            y=y,\n",
    "            text=y,\n",
    "            textposition=\"auto\",\n",
    "            showlegend=False,\n",
    "            marker=dict(color=colors, line=dict(color=\"black\", width=2)),\n",
    "        ),\n",
    "        row=1,\n",
    "        col=1,\n",
    "    )\n",
    "\n",
    "    fig.add_trace(\n",
    "        go.Pie(\n",
    "            labels=df[cols].value_counts().keys(),\n",
    "            values=df[cols].value_counts().values,\n",
    "            hoverinfo=\"label\",\n",
    "            textinfo=\"percent\",\n",
    "            textfont_size=20,\n",
    "            textposition=\"auto\",\n",
    "            marker=dict(colors=colors, line=dict(color=\"black\", width=2)),\n",
    "        ),\n",
    "        row=1,\n",
    "        col=2,\n",
    "    )\n",
    "\n",
    "    fig.update_layout(\n",
    "        title={\n",
    "            \"text\": cols.title(),\n",
    "            \"y\": 0.9,\n",
    "            \"x\": 0.5,\n",
    "            \"xanchor\": \"center\",\n",
    "            \"yanchor\": \"top\",\n",
    "        },\n",
    "        template=\"plotly_dark\",\n",
    "    )\n",
    "\n",
    "    fig.show()\n",
    "\n",
    "\n",
    "for i in [\"stage\", \"type\"]:\n",
    "    summary_count(df, i)"
   ]
  },
  {
   "cell_type": "code",
   "execution_count": null,
   "metadata": {},
   "outputs": [],
   "source": []
  },
  {
   "attachments": {},
   "cell_type": "markdown",
   "metadata": {},
   "source": [
    "#### Which team of 3 digimon have the highest attack? Defense?\n"
   ]
  },
  {
   "cell_type": "code",
   "execution_count": null,
   "metadata": {},
   "outputs": [],
   "source": [
    "def plot_column(df, column, top_values=10, color=\"#d33682\"):\n",
    "    df_total = []\n",
    "    title = f\"<b>{column[0].replace('_',' ').title()} and {column[1].replace('_',' ').title()} - Top {top_values} Digimons</b>\"\n",
    "    mean = df[column].mean()\n",
    "    median = df[column].median()\n",
    "    fig = make_subplots(\n",
    "        rows=2,\n",
    "        cols=1,\n",
    "        subplot_titles=(\n",
    "            f\"{column[0].replace('_',' ').title()}\",\n",
    "            f\"{column[1].replace('_',' ').title()}\",\n",
    "        ),\n",
    "        shared_xaxes=False,\n",
    "        shared_yaxes=False,\n",
    "        vertical_spacing=0.1,\n",
    "    )\n",
    "    for i, col in enumerate(column):\n",
    "        df_col = df.nlargest(top_values, columns=col).sort_values(\n",
    "            by=col, ascending=True\n",
    "        )\n",
    "        df_total.append(df_col)\n",
    "        mean = df_total[i][column[i]].mean()\n",
    "        median = df_total[i][column[i]].median()\n",
    "        # Plot 1 - Bar chart\n",
    "        fig.add_trace(\n",
    "            go.Bar(\n",
    "                x=df_total[i][col],\n",
    "                y=df_total[i][\"digimon\"],\n",
    "                orientation=\"h\",\n",
    "                marker_color=color,\n",
    "                text=df_total[i][\"type\"],\n",
    "                opacity=1,\n",
    "                hovertemplate=\"<b> Digimon:%{y} </br><b> \"\n",
    "                f\"{col.title()}\"\n",
    "                \":%{x} <br> Type:%{text}\",\n",
    "                name=\"\",\n",
    "            ),\n",
    "            row=i + 1,\n",
    "            col=1,\n",
    "        )\n",
    "\n",
    "        # add a vertical \"MEAN\" line\n",
    "        fig.add_shape(\n",
    "            type=\"line\",\n",
    "            x0=mean,\n",
    "            y0=0,\n",
    "            x1=mean,\n",
    "            y1=top_values - 0.5,\n",
    "            line=dict(color=\"purple\", width=3, dash=\"dot\"),\n",
    "            row=i + 1,\n",
    "            col=1,\n",
    "            visible=True,\n",
    "            templateitemname=mean,\n",
    "            name=\"mean\",\n",
    "        )\n",
    "        # Add a text annotation for the MEAN value\n",
    "        fig.add_annotation(\n",
    "            x=mean,\n",
    "            y=top_values,\n",
    "            text=\"Mean\",\n",
    "            hovertext=f\"Mean: {mean:.2f}\",\n",
    "            align=\"center\",\n",
    "            row=i + 1,\n",
    "            col=1,\n",
    "            textangle=50,\n",
    "            font=dict(size=10, color=\"gray\"),\n",
    "            xshift=-10,\n",
    "        )\n",
    "\n",
    "        # add a vertical \"MEDIAN\" line\n",
    "        fig.add_shape(\n",
    "            type=\"line\",\n",
    "            x0=median,\n",
    "            y0=0,\n",
    "            x1=median,\n",
    "            y1=top_values - 0.5,\n",
    "            line=dict(color=\"salmon\", width=3, dash=\"dot\"),\n",
    "            row=i + 1,\n",
    "            col=1,\n",
    "        )\n",
    "        # Add a text annotation for the MEDIAN value\n",
    "        fig.add_annotation(\n",
    "            x=median,\n",
    "            xref=\"x\",\n",
    "            y=top_values,\n",
    "            yref=\"y\",\n",
    "            text=\"Median\",\n",
    "            hovertext=f\"Median: {median:.2f}\",\n",
    "            align=\"center\",\n",
    "            row=i + 1,\n",
    "            col=1,\n",
    "            textangle=50,\n",
    "            font=dict(size=10, color=\"gray\"),\n",
    "            opacity=1,\n",
    "        )\n",
    "\n",
    "    fig.update_layout(\n",
    "        title_text=title,\n",
    "        uirevision=dict(editable=False),\n",
    "        bargap=0,\n",
    "        yaxis1=(\n",
    "            dict(\n",
    "                showgrid=False,\n",
    "                title=None,\n",
    "                showticklabels=True,\n",
    "                visible=True,\n",
    "                zeroline=False,\n",
    "            )\n",
    "        ),\n",
    "        yaxis2=(\n",
    "            dict(\n",
    "                showgrid=False,\n",
    "                title=None,\n",
    "                showticklabels=True,\n",
    "            )\n",
    "        ),\n",
    "        xaxis1=(\n",
    "            dict(\n",
    "                showgrid=False,\n",
    "                title=None,\n",
    "                showticklabels=True,\n",
    "                visible=True,\n",
    "                zeroline=False,\n",
    "            )\n",
    "        ),\n",
    "        xaxis2=(\n",
    "            dict(\n",
    "                showgrid=False,\n",
    "                title=None,\n",
    "                showticklabels=True,\n",
    "                visible=True,\n",
    "                zeroline=False,\n",
    "            )\n",
    "        ),\n",
    "        margin=dict(l=0, r=0, t=50, b=15),\n",
    "        showlegend=False,\n",
    "        hoverlabel=dict(\n",
    "            bgcolor=\"#ff8fc5\",\n",
    "            font_family=\"Times New Roman\",\n",
    "        ),\n",
    "        template=\"plotly_white\",\n",
    "        annotations=[\n",
    "            dict(\n",
    "                showarrow=False,\n",
    "            )\n",
    "        ],\n",
    "    )\n",
    "    return fig\n",
    "\n",
    "\n",
    "fig = plot_column(df=df, column=[\"atk\", \"def\"], top_values=3)\n",
    "fig.show()"
   ]
  },
  {
   "attachments": {},
   "cell_type": "markdown",
   "metadata": {},
   "source": [
    "### Are some types over- or under-represented?\n"
   ]
  },
  {
   "cell_type": "code",
   "execution_count": null,
   "metadata": {},
   "outputs": [],
   "source": [
    "df[[\"type\", \"stage\"]].value_counts()"
   ]
  },
  {
   "cell_type": "code",
   "execution_count": null,
   "metadata": {},
   "outputs": [],
   "source": [
    "# df = data.groupby(['pulse', 'diet']).count()['time']\n",
    "\n",
    "df_group = df.groupby([\"stage\", \"type\"])[\"digimon\"].count()\n",
    "df_group"
   ]
  },
  {
   "cell_type": "code",
   "execution_count": null,
   "metadata": {},
   "outputs": [],
   "source": [
    "df_group = df_group.reset_index()\n",
    "df_group"
   ]
  },
  {
   "cell_type": "code",
   "execution_count": null,
   "metadata": {},
   "outputs": [],
   "source": [
    "fig = px.bar(\n",
    "    df_group,\n",
    "    x=\"stage\",\n",
    "    y=\"digimon\",\n",
    "    title=\"Stage Of Digimon and Amount of each\",\n",
    "    color=\"type\",\n",
    "    text=\"type\",\n",
    "    template=\"plotly_white\",\n",
    ")\n",
    "fig.update_layout(\n",
    "    barmode=\"group\",\n",
    "    plot_bgcolor=\"rgba(0,0,0,0)\",\n",
    "    yaxis=(dict(showgrid=False, title=None)),\n",
    "    xaxis=(dict(showgrid=False, title=None, categoryorder=\"total descending\")),\n",
    "    legend=(dict(title={\"text\": \"Type\"})),\n",
    ")\n",
    "\n",
    "fig.update_traces(\n",
    "    texttemplate=\"%{value}\",\n",
    "    textposition=\"outside\",\n",
    "    hovertemplate=\"<br>\".join(\n",
    "        [\"Stage: %{x}\", \"Number of Digimons: %{y}\", \"Type: %{text}\"]\n",
    "    ),\n",
    ")\n",
    "\n",
    "fig.show()\n",
    "# print(\"plotly express hovertemplate:\", fig.layout)\n",
    "# print(\"plotly express hovertemplate:\", fig.data[0].hovertemplate)\n",
    "#"
   ]
  },
  {
   "attachments": {},
   "cell_type": "markdown",
   "metadata": {},
   "source": [
    "What’s the tradeoff between HP and SP?\n"
   ]
  },
  {
   "cell_type": "code",
   "execution_count": null,
   "metadata": {},
   "outputs": [],
   "source": [
    "df[[\"hp\", \"sp\"]]"
   ]
  },
  {
   "attachments": {},
   "cell_type": "markdown",
   "metadata": {},
   "source": [
    "* Both the moves and support skills have short text descriptions. Can an NLP analysis reveal underlying clusters of moves?\n",
    "* Are different types and attributes evenly represented across stages?"
   ]
  },
  {
   "cell_type": "code",
   "execution_count": null,
   "metadata": {},
   "outputs": [],
   "source": [
    "df_pie = df.groupby(\"attribute\").stage.value_counts(ascending=False)"
   ]
  },
  {
   "cell_type": "code",
   "execution_count": null,
   "metadata": {},
   "outputs": [],
   "source": [
    "# OPTIONAL\n",
    "fig.write_html(\"digimon-chart.html\")"
   ]
  },
  {
   "attachments": {},
   "cell_type": "markdown",
   "metadata": {},
   "source": [
    "Both the moves and support skills have short text descriptions. Can an NLP analysis reveal underlying clusters of moves?\n",
    "Are different types and attributes evenly represented across stages?"
   ]
  },
  {
   "cell_type": "code",
   "execution_count": null,
   "metadata": {},
   "outputs": [],
   "source": [
    "db_move.columns.tolist()"
   ]
  },
  {
   "cell_type": "code",
   "execution_count": null,
   "metadata": {},
   "outputs": [],
   "source": [
    "db_move.columns.str.lower()"
   ]
  },
  {
   "cell_type": "code",
   "execution_count": null,
   "metadata": {},
   "outputs": [],
   "source": [
    "# Function to CLEAN\n",
    "def clean_df(df, views_threshold=100):\n",
    "    \"\"\"\n",
    "    Purpose: Clean the DataFrame\n",
    "    \"\"\"\n",
    "    #  remove_cols=['Number']\n",
    "    # remove_nan_values=['']\n",
    "    return (\n",
    "        df\n",
    "        #   .drop(labels=remove_cols,axis='columns')\n",
    "        #    .dropna(subset=remove_nan_values)\n",
    "        .dropna()\n",
    "        .pipe(\n",
    "            clean_columns\n",
    "        )  # Cleaning empty spaces and special characters. Imported at the beginning\n",
    "        .rename(columns=str.lower)\n",
    "        .query(\"power > @views_threshold\")\n",
    "        .assign(  # assign create a new column or edit the existing one\n",
    "            #        atk=lambda df_: pd.to_datetime(df_.)\n",
    "            power_sp_ratio=lambda df_: ((df_.sp_cost / df_.power) * 100).round(\n",
    "                2\n",
    "            )\n",
    "        )\n",
    "    )\n",
    "\n",
    "\n",
    "# end def\n",
    "\n",
    "df_move = clean_df(db_move)\n",
    "df_move.head(3)"
   ]
  },
  {
   "attachments": {},
   "cell_type": "markdown",
   "metadata": {},
   "source": [
    "### Which set of moves will get the best ratio of attack power to SP spent?\n"
   ]
  },
  {
   "cell_type": "code",
   "execution_count": null,
   "metadata": {},
   "outputs": [],
   "source": [
    "df_move.nlargest(3, columns=\"power_sp_ratio\")"
   ]
  },
  {
   "cell_type": "code",
   "execution_count": null,
   "metadata": {},
   "outputs": [],
   "source": [
    "db_move[[\"Move\", \"SP Cost\", \"Power\"]]"
   ]
  },
  {
   "cell_type": "code",
   "execution_count": null,
   "metadata": {},
   "outputs": [],
   "source": [
    "df_move['sp_power'] = df_move.groupby(['power_sp_ratio']).size()\n",
    "threshold = 200\n",
    "\n",
    "# Count the frequency of each category\n",
    "counts = db_move['sp_power'].value_counts(ascending=False)\n",
    "# Identify rare categories\n",
    "rare_categories = counts[counts <= threshold]\n",
    "rare_categories"
   ]
  },
  {
   "cell_type": "code",
   "execution_count": null,
   "metadata": {},
   "outputs": [],
   "source": [
    "df_move"
   ]
  },
  {
   "cell_type": "code",
   "execution_count": null,
   "metadata": {},
   "outputs": [],
   "source": [
    "db_move_sp_power = db_move.groupby([\"Move\", \"SP Cost\", \"Power\"]).size()\n",
    "\n",
    "\n",
    "fig = go.Figure()\n",
    "categories = ['Weak', 'Medium', 'Strong']\n",
    "fig.add_trace(go.Scatterpolar(\n",
    "            r = db_move_sp_power.unique(), theta = categories, \n",
    "            fill = 'toself', name = '2020 remote ratio'))\n",
    "\n",
    "fig.add_trace(go.Scatterpolar(\n",
    "            r = ratio_2021, theta = categories,\n",
    "            fill = 'toself', name = '2021 remote ratio'))\n",
    "\n",
    "fig.add_trace(go.Scatterpolar(\n",
    "            r = ratio_2022, theta = categories,\n",
    "            fill = 'toself', name = '2022 remote ratio'))\n",
    "\n",
    "fig.add_trace(go.Scatterpolar(\n",
    "            r = ratio_2023, theta = categories,\n",
    "            fill = 'toself', name = '2023 remote ratio'))\n",
    "fig.update_layout(title={'text': \"Remote Ratio by Work Year\",\n",
    "                             'y':0.9,\n",
    "                             'x':0.5,\n",
    "                             'xanchor':'center',\n",
    "                             'yanchor':'top'},\n",
    "                             barmode='overlay',\n",
    "                             yaxis=dict(title='Count'),\n",
    "                             template = 'plotly_dark')\n",
    "fig.show()"
   ]
  }
 ],
 "metadata": {
  "kernelspec": {
   "display_name": "data-env",
   "language": "python",
   "name": "python3"
  },
  "language_info": {
   "codemirror_mode": {
    "name": "ipython",
    "version": 3
   },
   "file_extension": ".py",
   "mimetype": "text/x-python",
   "name": "python",
   "nbconvert_exporter": "python",
   "pygments_lexer": "ipython3",
   "version": "3.10.11"
  },
  "orig_nbformat": 4
 },
 "nbformat": 4,
 "nbformat_minor": 2
}
